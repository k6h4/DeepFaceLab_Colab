{
	"nbformat":4,
	"nbformat_minor":0,
	"metadata":{
		"colab":{
			"name":"DeepFaceLab_Colab_H.ipynb",
			"provenance":[],
			"collapsed_sections":[],
			"authorship_tag":"ABX9TyOt56+PErtNC3efS6Nx1OfH"
		},
		"kernelspec":{
			"name":"python3",
			"display_name":"Python 3"
		},
		"accelerator":"GPU"
	},
	"cells":[
	    {
      "cell_type": "markdown",
      "metadata": {
        "id": "view-in-github",
        "colab_type": "text"
      },
      "source": [
        "<a href=\"https://colab.research.google.com/github/k6h4/DeepFaceLab_Colab/blob/master/DeepFaceLab_Colab.ipynb\" target=\"_parent\"><img src=\"https://colab.research.google.com/assets/colab-badge.svg\" alt=\"Open In Colab\"/></a>"
      ]
    },
	{
		"cell_type":"markdown",
		"metadata":{
			"id":"AQ8v0FqIqYAN"
		},
		"source":[
			"# DeepFaceLab Colab High脚本简介\n",
			"\n","版本一"
		]
	},
	{
		"cell_type":"code","metadata":{
			"id":"druPhwL45acb","cellView":"form"
		},
		"source":[
			"#@title 查阅分配的显卡设备\n","! /opt/bin/nvidia-smi"
		],
		"execution_count":null,"outputs":[]
	},
	{
		"cell_type":"code",
		"metadata":{"id":"VTU7RBlT6Mxj","cellView":"form"},
		"source":["#@title 挂载谷歌云盘\n","from google.colab import drive\n","drive.mount('/content/drive', force_remount=True)"],
		"execution_count":null,"outputs":[]
	},
	{
		"cell_type":"code","metadata":{"id":"JWkXuPzg-UHn","cellView":"form"},
		"source":["#@title 首次挂载后创建DeepFaceLab和workspace目录,只要首次运行,后续或原本已经有目录时不需要运行.\n","\n","%cd /content/drive/My Drive/\n","!mkdir DeepFaceLab\n","%cd /content/drive/My Drive/DeepFaceLab/\n","!mkdir workspace_high\n","%cd /content/drive/My Drive/DeepFaceLab/workspace_man/\n","!mkdir -p data_src/aligned/\n","!mkdir -p data_dst/aligned/\n","!mkdir -p model/"],
		"execution_count":null,"outputs":[]
	},
	{
		"cell_type":"code","metadata":{"id":"xSXIBUP5wPgK","cellView":"form","outputId":"fd7684b4-23f0-46e2-cd11-a4ef3a898a33","colab":{"base_uri":"https://localhost:8080/","height":1000}},
		"source":["#@title 一键运行\n"," \n","Model = \"SAEHD\" #@param [\"SAEHD\" , \"Quick96\"]\n"," \n","from google.colab import drive\n","drive.mount('/content/drive', force_remount=True)\n"," \n","%cd /content/drive/My Drive/DeepFaceLab/DeepFaceLab_Colab\n"," \n","!pip uninstall -y tensorflow\n","!pip install -r requirements-colab.txt\n","!pip install --upgrade scikit-image\n","!sudo apt-get install cuda-10-0\n"," \n"," \n","cmd = \"main.py train --training-data-src-dir ../workspace_high/data_src/aligned --training-data-dst-dir ../workspace/data_dst/aligned --model-dir ../workspace_high/model --model \"+Model+\" --no-preview\"\n","!python $cmd"],
		"execution_count":null,"outputs":[]
	}
}
